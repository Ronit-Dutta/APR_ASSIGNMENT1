import pandas as pd
import numpy as np
import matplotlib.pyplot as plt
import seaborn as sns
from sklearn.datasets import load_iris
from sklearn.preprocessing import StandardScaler
from sklearn.decomposition import PCA

iris = load_iris()
X = iris.data
y = iris.target
feature_names = iris.feature_names
target_names = iris.target_names

scaler = StandardScaler()
X_scaled = scaler.fit_transform(X)

pca = PCA() 
principal_components = pca.fit_transform(X_scaled)

pca_df = pd.DataFrame(data=principal_components[:, :2], columns=['PC1', 'PC2'])
pca_df['Species'] = y
pca_df['Species'] = pca_df['Species'].map({0: target_names[0], 1: target_names[1], 2: target_names[2]})

plt.figure(figsize=(10, 7))
sns.scatterplot(x='PC1', y='PC2', hue='Species', data=pca_df, palette='viridis', s=100, alpha=0.8)
plt.title('PCA of Iris Dataset', fontsize=16)
plt.xlabel('First Principal Component (PC1)', fontsize=12)
plt.ylabel('Second Principal Component (PC2)', fontsize=12)
plt.legend(title='Species')
plt.grid()
plt.show()

explained_variance = pca.explained_variance_ratio_
print(f"Explained variance by PC1: {explained_variance[0]:.2f} ({explained_variance[0]*100:.1f}%)")
print(f"Explained variance by PC2: {explained_variance[1]:.2f} ({explained_variance[1]*100:.1f}%)")
print(f"Explained variance by PC3: {explained_variance[2]:.2f} ({explained_variance[2]*100:.1f}%)")
print(f"Explained variance by PC4: {explained_variance[3]:.2f} ({explained_variance[3]*100:.1f}%)")

plt.figure(figsize=(8, 5))
plt.plot(np.arange(1, len(explained_variance) + 1), explained_variance, 'o-', linewidth=2, color='blue')
plt.title('Scree Plot')
plt.xlabel('Principal Component')
plt.ylabel('Variance Explained')
plt.xticks(np.arange(1, len(explained_variance) + 1))
plt.grid()
plt.show()

loadings = pca.components_
loadings_df = pd.DataFrame(loadings.T, columns=[f'PC{i+1}' for i in range(len(explained_variance))], index=feature_names)

print("\nComponent Loadings:")
print(loadings_df)

plt.figure(figsize=(10, 5))
sns.heatmap(loadings_df, annot=True, cmap='viridis')
plt.title('Heatmap of PCA Component Loadings')
plt.show()
